{
 "cells": [
  {
   "cell_type": "markdown",
   "id": "c54f4f7f",
   "metadata": {},
   "source": [
    "## Exercise 1 (Introduction to Scikit-learn)"
   ]
  },
  {
   "cell_type": "code",
   "execution_count": 83,
   "id": "3e938a02",
   "metadata": {},
   "outputs": [],
   "source": [
    "import pandas as pd\n",
    "import numpy as np"
   ]
  },
  {
   "cell_type": "code",
   "execution_count": 84,
   "id": "e956b19a",
   "metadata": {},
   "outputs": [],
   "source": [
    "from sklearn import neighbors"
   ]
  },
  {
   "cell_type": "code",
   "execution_count": 85,
   "id": "20981949",
   "metadata": {},
   "outputs": [],
   "source": [
    "from sklearn.neighbors import NearestNeighbors\n",
    "from sklearn.model_selection import train_test_split\n",
    "from sklearn.neighbors import KNeighborsClassifier"
   ]
  },
  {
   "cell_type": "markdown",
   "id": "8439c816",
   "metadata": {},
   "source": [
    "Question 1 Load the rice data set in a pandas DataFrame."
   ]
  },
  {
   "cell_type": "code",
   "execution_count": 86,
   "id": "fcf310cb",
   "metadata": {},
   "outputs": [],
   "source": [
    "df = pd.read_csv('rice.csv')"
   ]
  },
  {
   "cell_type": "code",
   "execution_count": 87,
   "id": "4e1d3a47",
   "metadata": {},
   "outputs": [
    {
     "name": "stdout",
     "output_type": "stream",
     "text": [
      "       AREA   PERIMETER   MAJORAXIS  MINORAXIS  ECCENTRICITY  CONVEX_AREA  \\\n",
      "0     15231  525.578979  229.749878  85.093788      0.928882        15617   \n",
      "1     14656  494.311005  206.020065  91.730972      0.895405        15072   \n",
      "2     14634  501.122009  214.106781  87.768288      0.912118        14954   \n",
      "3     13176  458.342987  193.337387  87.448395      0.891861        13368   \n",
      "4     14688  507.166992  211.743378  89.312454      0.906691        15262   \n",
      "...     ...         ...         ...        ...           ...          ...   \n",
      "3805  11441  415.858002  170.486771  85.756592      0.864280        11628   \n",
      "3806  11625  421.390015  167.714798  89.462570      0.845850        11904   \n",
      "3807  12437  442.498993  183.572922  86.801979      0.881144        12645   \n",
      "3808   9882  392.296997  161.193985  78.210480      0.874406        10097   \n",
      "3809  11434  404.709991  161.079269  90.868195      0.825692        11591   \n",
      "\n",
      "        EXTENT     CLASS  \n",
      "0     0.572896    Cammeo  \n",
      "1     0.615436    Cammeo  \n",
      "2     0.693259    Cammeo  \n",
      "3     0.640669    Cammeo  \n",
      "4     0.646024    Cammeo  \n",
      "...        ...       ...  \n",
      "3805  0.681012  Osmancik  \n",
      "3806  0.694279  Osmancik  \n",
      "3807  0.626739  Osmancik  \n",
      "3808  0.659064  Osmancik  \n",
      "3809  0.802949  Osmancik  \n",
      "\n",
      "[3810 rows x 8 columns]\n"
     ]
    }
   ],
   "source": [
    "print(df)"
   ]
  },
  {
   "cell_type": "code",
   "execution_count": 88,
   "id": "fe864508",
   "metadata": {},
   "outputs": [
    {
     "data": {
      "text/html": [
       "<div>\n",
       "<style scoped>\n",
       "    .dataframe tbody tr th:only-of-type {\n",
       "        vertical-align: middle;\n",
       "    }\n",
       "\n",
       "    .dataframe tbody tr th {\n",
       "        vertical-align: top;\n",
       "    }\n",
       "\n",
       "    .dataframe thead th {\n",
       "        text-align: right;\n",
       "    }\n",
       "</style>\n",
       "<table border=\"1\" class=\"dataframe\">\n",
       "  <thead>\n",
       "    <tr style=\"text-align: right;\">\n",
       "      <th></th>\n",
       "      <th>AREA</th>\n",
       "      <th>PERIMETER</th>\n",
       "      <th>MAJORAXIS</th>\n",
       "      <th>MINORAXIS</th>\n",
       "      <th>ECCENTRICITY</th>\n",
       "      <th>CONVEX_AREA</th>\n",
       "      <th>EXTENT</th>\n",
       "      <th>CLASS</th>\n",
       "    </tr>\n",
       "  </thead>\n",
       "  <tbody>\n",
       "    <tr>\n",
       "      <th>0</th>\n",
       "      <td>15231</td>\n",
       "      <td>525.578979</td>\n",
       "      <td>229.749878</td>\n",
       "      <td>85.093788</td>\n",
       "      <td>0.928882</td>\n",
       "      <td>15617</td>\n",
       "      <td>0.572896</td>\n",
       "      <td>Cammeo</td>\n",
       "    </tr>\n",
       "    <tr>\n",
       "      <th>1</th>\n",
       "      <td>14656</td>\n",
       "      <td>494.311005</td>\n",
       "      <td>206.020065</td>\n",
       "      <td>91.730972</td>\n",
       "      <td>0.895405</td>\n",
       "      <td>15072</td>\n",
       "      <td>0.615436</td>\n",
       "      <td>Cammeo</td>\n",
       "    </tr>\n",
       "    <tr>\n",
       "      <th>2</th>\n",
       "      <td>14634</td>\n",
       "      <td>501.122009</td>\n",
       "      <td>214.106781</td>\n",
       "      <td>87.768288</td>\n",
       "      <td>0.912118</td>\n",
       "      <td>14954</td>\n",
       "      <td>0.693259</td>\n",
       "      <td>Cammeo</td>\n",
       "    </tr>\n",
       "    <tr>\n",
       "      <th>3</th>\n",
       "      <td>13176</td>\n",
       "      <td>458.342987</td>\n",
       "      <td>193.337387</td>\n",
       "      <td>87.448395</td>\n",
       "      <td>0.891861</td>\n",
       "      <td>13368</td>\n",
       "      <td>0.640669</td>\n",
       "      <td>Cammeo</td>\n",
       "    </tr>\n",
       "    <tr>\n",
       "      <th>4</th>\n",
       "      <td>14688</td>\n",
       "      <td>507.166992</td>\n",
       "      <td>211.743378</td>\n",
       "      <td>89.312454</td>\n",
       "      <td>0.906691</td>\n",
       "      <td>15262</td>\n",
       "      <td>0.646024</td>\n",
       "      <td>Cammeo</td>\n",
       "    </tr>\n",
       "  </tbody>\n",
       "</table>\n",
       "</div>"
      ],
      "text/plain": [
       "    AREA   PERIMETER   MAJORAXIS  MINORAXIS  ECCENTRICITY  CONVEX_AREA  \\\n",
       "0  15231  525.578979  229.749878  85.093788      0.928882        15617   \n",
       "1  14656  494.311005  206.020065  91.730972      0.895405        15072   \n",
       "2  14634  501.122009  214.106781  87.768288      0.912118        14954   \n",
       "3  13176  458.342987  193.337387  87.448395      0.891861        13368   \n",
       "4  14688  507.166992  211.743378  89.312454      0.906691        15262   \n",
       "\n",
       "     EXTENT   CLASS  \n",
       "0  0.572896  Cammeo  \n",
       "1  0.615436  Cammeo  \n",
       "2  0.693259  Cammeo  \n",
       "3  0.640669  Cammeo  \n",
       "4  0.646024  Cammeo  "
      ]
     },
     "execution_count": 88,
     "metadata": {},
     "output_type": "execute_result"
    }
   ],
   "source": [
    "df.head()"
   ]
  },
  {
   "cell_type": "code",
   "execution_count": 89,
   "id": "40c30a8c",
   "metadata": {},
   "outputs": [
    {
     "data": {
      "text/plain": [
       "(3810, 8)"
      ]
     },
     "execution_count": 89,
     "metadata": {},
     "output_type": "execute_result"
    }
   ],
   "source": [
    "df.shape"
   ]
  },
  {
   "cell_type": "markdown",
   "id": "e45aacfc",
   "metadata": {},
   "source": [
    "Question 2 Adapt the typical Scikit-learn code to build a k-NN model on the full data set with\n",
    "k = 5."
   ]
  },
  {
   "cell_type": "code",
   "execution_count": 90,
   "id": "1e370b3f",
   "metadata": {},
   "outputs": [],
   "source": [
    "df2 = df.drop(labels = 'CLASS', axis = 1)"
   ]
  },
  {
   "cell_type": "code",
   "execution_count": 91,
   "id": "4abc5016",
   "metadata": {},
   "outputs": [],
   "source": [
    "X = df2\n",
    "Y = (df.loc[:, 'CLASS'])"
   ]
  },
  {
   "cell_type": "code",
   "execution_count": 92,
   "id": "3f471cf2",
   "metadata": {},
   "outputs": [
    {
     "name": "stdout",
     "output_type": "stream",
     "text": [
      " 5 nn score: 0.9181102362204724 \n"
     ]
    }
   ],
   "source": [
    "#typical k-NN model with k=5\n",
    "knn = KNeighborsClassifier(n_neighbors=5)\n",
    "knn.fit(X,Y)\n",
    "prediction = knn.predict(X)\n",
    "print(\" {} nn score: {} \".format(5,knn.score(X,Y)))"
   ]
  },
  {
   "cell_type": "markdown",
   "id": "574e350d",
   "metadata": {},
   "source": [
    "Question 3 Use confusion_matrix to report the confusion matrix of the k-nn algorithm on\n",
    "the learning set for k = 5. Print the confusion matrix using the standard scikit-learn convention\n",
    "and with the transposed convention."
   ]
  },
  {
   "cell_type": "code",
   "execution_count": 93,
   "id": "87a1af80",
   "metadata": {},
   "outputs": [],
   "source": [
    "from sklearn import metrics"
   ]
  },
  {
   "cell_type": "code",
   "execution_count": 94,
   "id": "6ac60e09",
   "metadata": {},
   "outputs": [
    {
     "data": {
      "text/plain": [
       "array([[1348,  282],\n",
       "       [ 141, 2039]], dtype=int64)"
      ]
     },
     "execution_count": 94,
     "metadata": {},
     "output_type": "execute_result"
    }
   ],
   "source": [
    "#standard confusion matrix\n",
    "metrics.confusion_matrix(Y, y_pred)"
   ]
  },
  {
   "cell_type": "code",
   "execution_count": 95,
   "id": "55881a04",
   "metadata": {},
   "outputs": [
    {
     "data": {
      "text/plain": [
       "array([[1348,  141],\n",
       "       [ 282, 2039]], dtype=int64)"
      ]
     },
     "execution_count": 95,
     "metadata": {},
     "output_type": "execute_result"
    }
   ],
   "source": [
    "#transposed matrix\n",
    "np.transpose(metrics.confusion_matrix(Y, y_pred))"
   ]
  },
  {
   "cell_type": "code",
   "execution_count": 96,
   "id": "1b793d1e",
   "metadata": {},
   "outputs": [],
   "source": [
    "#Graphical Representation of the Confusion Matrix\n",
    "\n",
    "#axis for confusion matrix\n",
    "y_pred = knn.predict(X)\n",
    "y_true = Y"
   ]
  },
  {
   "cell_type": "code",
   "execution_count": 97,
   "id": "f40fedd2",
   "metadata": {},
   "outputs": [
    {
     "data": {
      "image/png": "[encoded data removed]",
      "text/plain": [
       "<Figure size 500x500 with 2 Axes>"
      ]
     },
     "metadata": {},
     "output_type": "display_data"
    }
   ],
   "source": [
    "cm= confusion_matrix(y_true, y_pred)\n",
    "\n",
    "import seaborn as sns \n",
    "f, ax =plt.subplots(figsize = (5,5))\n",
    "\n",
    "sns.heatmap(cm,annot = True, linewidths= 1.0, linecolor=\"orange\", fmt=\".0f\", ax=ax)\n",
    "plt.xlabel(\"y_pred\")\n",
    "plt.ylabel(\"y_true\")\n",
    "plt.show()"
   ]
  },
  {
   "cell_type": "markdown",
   "id": "5f5e6b53",
   "metadata": {},
   "source": [
    "Question 4 Compute the accuracy of the classifier, its precision and its recall from the confusion\n",
    "matrix."
   ]
  },
  {
   "cell_type": "code",
   "execution_count": 98,
   "id": "852501b6",
   "metadata": {},
   "outputs": [],
   "source": [
    "#TN = true negetive, FN = false negetive, TP = true positive, FP = false positive\n",
    "TN = cm[0][0]\n",
    "FN = cm[1][0]\n",
    "TP = cm[1][1]\n",
    "FP = cm[0][1]"
   ]
  },
  {
   "cell_type": "code",
   "execution_count": 99,
   "id": "7ff6c909",
   "metadata": {},
   "outputs": [],
   "source": [
    "accuracy = (TP+TN)/(TP+TN+FP+FN)\n",
    "precision = TP/(TP+FN)\n",
    "recall = TP/(TP+FN)"
   ]
  },
  {
   "cell_type": "code",
   "execution_count": 100,
   "id": "b6704391",
   "metadata": {},
   "outputs": [
    {
     "name": "stdout",
     "output_type": "stream",
     "text": [
      "0.9181102362204724\n",
      "0.9422018348623853\n",
      "0.9422018348623853\n"
     ]
    }
   ],
   "source": [
    "print(accuracy)\n",
    "print(precision)\n",
    "print(recall)"
   ]
  },
  {
   "cell_type": "markdown",
   "id": "23a709d0",
   "metadata": {},
   "source": [
    "Question 5 Compute the same values using the dedicated functions from the metrics module."
   ]
  },
  {
   "cell_type": "code",
   "execution_count": 101,
   "id": "7fc5cc98",
   "metadata": {},
   "outputs": [],
   "source": [
    "from sklearn.metrics import accuracy_score, precision_score, recall_score"
   ]
  },
  {
   "cell_type": "code",
   "execution_count": 102,
   "id": "c68d93d1",
   "metadata": {},
   "outputs": [],
   "source": [
    "#computing the same using sklearn.metrics\n",
    "accuracy = accuracy_score(Y, y_pred)\n",
    "\n",
    "#pos_label can be changed to the other name for that set of values\n",
    "precision = precision_score(Y, y_pred, pos_label=\"Cammeo\")\n",
    "recall = recall_score(Y, y_pred, pos_label=\"Cammeo\")"
   ]
  },
  {
   "cell_type": "code",
   "execution_count": 103,
   "id": "7e96e873",
   "metadata": {},
   "outputs": [
    {
     "name": "stdout",
     "output_type": "stream",
     "text": [
      "0.9181102362204724\n",
      "0.9197452229299363\n",
      "0.8858895705521472\n"
     ]
    }
   ],
   "source": [
    "print(accuracy)\n",
    "print(precision)\n",
    "print(recall)"
   ]
  },
  {
   "cell_type": "markdown",
   "id": "dbab966b",
   "metadata": {},
   "source": [
    "Question 6 Using a loop, compute and collect the accuracy of the k-NN model on the learning\n",
    "set for all odd values of k between 1 and 31."
   ]
  },
  {
   "cell_type": "code",
   "execution_count": 104,
   "id": "fd12a465",
   "metadata": {},
   "outputs": [],
   "source": [
    "accuracies = []\n",
    "#accuracies for all odd values of k\n",
    "for i in range(1, 31):\n",
    "    if(i%2!=0):\n",
    "        knn = KNeighborsClassifier(n_neighbors=i)\n",
    "        knn.fit(X, Y)\n",
    "        y_pred = knn.predict(X)\n",
    "        accuracy = accuracy_score(Y, y_pred)\n",
    "        accuracies.append(accuracy)"
   ]
  },
  {
   "cell_type": "code",
   "execution_count": 105,
   "id": "72fd3105",
   "metadata": {},
   "outputs": [
    {
     "name": "stdout",
     "output_type": "stream",
     "text": [
      "[1.0, 0.9356955380577427, 0.9181102362204724, 0.9086614173228347, 0.9020997375328084, 0.8971128608923884, 0.8937007874015748, 0.8931758530183727, 0.8889763779527559, 0.8884514435695539, 0.8892388451443569, 0.8908136482939633, 0.8863517060367454, 0.8871391076115486, 0.8889763779527559]\n"
     ]
    }
   ],
   "source": [
    "print(accuracies)"
   ]
  },
  {
   "cell_type": "markdown",
   "id": "ad3114bb",
   "metadata": {},
   "source": [
    "Question 7 Discuss the results."
   ]
  },
  {
   "cell_type": "markdown",
   "id": "03fcbb95",
   "metadata": {},
   "source": [
    "Ans: We observe that with the odd values of the k-nearest neighbours, the accuracy of prediction is very high for almost every value. With k=1, it is perfect at 100%. This implies that the fitted model predicts the data well, but we could already foresee this given the fact that we have not split our data into a training and testing set."
   ]
  }
 ],
 "metadata": {
  "kernelspec": {
   "display_name": "Python 3 (ipykernel)",
   "language": "python",
   "name": "python3"
  },
  "language_info": {
   "codemirror_mode": {
    "name": "ipython",
    "version": 3
   },
   "file_extension": ".py",
   "mimetype": "text/x-python",
   "name": "python",
   "nbconvert_exporter": "python",
   "pygments_lexer": "ipython3",
   "version": "3.11.4"
  }
 },
 "nbformat": 4,
 "nbformat_minor": 5
}
